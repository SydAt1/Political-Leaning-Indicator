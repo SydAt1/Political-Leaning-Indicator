{
 "cells": [
  {
   "cell_type": "code",
   "execution_count": null,
   "metadata": {},
   "outputs": [],
   "source": [
    "# Step 1: Import libraries and load data\n",
    "import pandas as pd\n",
    "import numpy as np\n",
    "from sklearn.feature_extraction.text import TfidfVectorizer\n",
    "import pickle\n",
    "from sklearn.metrics import accuracy_score, precision_score, recall_score, classification_report\n",
    "\n",
    "# Load TF-IDF features and labels\n",
    "tfidf_features = pickle.load(open('../data/processed/tfidf_features.pkl', 'rb'))\n",
    "labels_df = pd.read_csv('../data/labels.csv')\n",
    "history_df = pd.read_csv('../data/processed/cleaned_history.csv')\n",
    "\n",
    "# Ensure alignment (assuming tfidf_features shape is (75, 254))\n",
    "X = tfidf_features\n",
    "y_true = labels_df['label'].values\n",
    "\n",
    "# Load the trained model\n",
    "with open('../models/logistic_regression.pkl', 'rb') as file:\n",
    "    model = pickle.load(file)"
   ]
  },
  {
   "cell_type": "code",
   "execution_count": null,
   "metadata": {},
   "outputs": [],
   "source": [
    "# Step 2: Test the Model on Existing Data\n",
    "y_pred = model.predict(X)\n",
    "\n",
    "# Evaluate accuracy\n",
    "accuracy = accuracy_score(y_true, y_pred)\n",
    "print(f'Accuracy: {accuracy:.2f}')\n",
    "\n",
    "# Detailed classification report\n",
    "print('Classification Report:')\n",
    "print(classification_report(y_true, y_pred, target_names=['Democrat', 'Republican']))"
   ]
  },
  {
   "cell_type": "code",
   "execution_count": null,
   "metadata": {},
   "outputs": [],
   "source": [
    "# Step 3: Visualize Label Distribution and Prediction Confidence\n",
    "import matplotlib.pyplot as plt\n",
    "\n",
    "# Label distribution (true labels)\n",
    "plt.figure(figsize=(8, 5))\n",
    "plt.hist(y_true, bins=2, edgecolor='black', color='#1E90FF')\n",
    "plt.title('Distribution of True Labels')\n",
    "plt.xlabel('Label (0: Democrat, 1: Republican)')\n",
    "plt.ylabel('Count')\n",
    "plt.xticks([0, 1])\n",
    "plt.show()\n",
    "\n",
    "# Prediction confidence (probability estimates)\n",
    "y_prob = model.predict_proba(X)[:, 1]  # Probability of class 1 (Republican)\n",
    "plt.figure(figsize=(8, 5))\n",
    "plt.hist(y_prob, bins=10, edgecolor='black', color='#FF4500')\n",
    "plt.title('Prediction Confidence for Republican Label')\n",
    "plt.xlabel('Probability')\n",
    "plt.ylabel('Count')\n",
    "plt.show()"
   ]
  },
  {
   "cell_type": "code",
   "execution_count": null,
   "metadata": {},
   "outputs": [],
   "source": [
    "# Step 4: Iterate - Adjust Labels or Features\n",
    "# Example: Refine labeling logic based on misclassifications\n",
    "misclassified = (y_pred != y_true)\n",
    "misclassified_df = history_df[misclassified].copy()\n",
    "misclassified_df['predicted_label'] = y_pred[misclassified]\n",
    "misclassified_df['true_label'] = y_true[misclassified]\n",
    "print('Misclassified Entries:')\n",
    "print(misclassified_df[['cleaned_title', 'predicted_label', 'true_label']])\n",
    "\n",
    "# Suggest refining keywords based on misclassifications\n",
    "if len(misclassified_df) > 0:\n",
    "    print('\\nConsider adding these keywords to generate_labels.py:')\n",
    "    for title in misclassified_df['cleaned_title']:\n",
    "        if misclassified_df.loc[misclassified_df['cleaned_title'] == title, 'true_label'].iloc[0] == 1:\n",
    "            print(f\"- Potential Republican keywords in '{title}'\")\n",
    "        else:\n",
    "            print(f\"- Potential Democrat keywords in '{title}'\")\n"
   ]
  },
  {
   "cell_type": "code",
   "execution_count": null,
   "metadata": {},
   "outputs": [],
   "source": [
    "# Step 5: Predict User Voting Preference\n",
    "\n",
    "# Calculate the dominant predicted label\n",
    "dominant_label = np.bincount(y_pred).argmax()\n",
    "voting_preference = 'left' if dominant_label == 0 else 'right'\n",
    "confidence_percentage = (np.bincount(y_pred)[dominant_label] / len(y_pred)) * 100\n",
    "\n",
    "# Output the verdict\n",
    "print(f\"Voting Preference Prediction - As of 07:47 PM +0545, July 20, 2025\")\n",
    "print(f\"--------------------------------------------------\")\n",
    "print(f\"- **Predicted Preference**: {voting_preference} (likely {voting_preference} wing)\")\n",
    "print(f\"- **Confidence**: {confidence_percentage:.1f}% (based on {len(y_pred)} entries)\")\n",
    "print(f\"- **Insight**: This prediction is derived from the majority of web history entries leaning toward {'Democrat' if dominant_label == 0 else 'Republican'} content.\")\n"
   ]
  },
  {
   "cell_type": "code",
   "execution_count": null,
   "metadata": {},
   "outputs": [],
   "source": []
  }
 ],
 "metadata": {
  "kernelspec": {
   "display_name": "Python 3",
   "language": "python",
   "name": "python3"
  },
  "language_info": {
   "codemirror_mode": {
    "name": "ipython",
    "version": 3
   },
   "file_extension": ".py",
   "mimetype": "text/x-python",
   "name": "python",
   "nbconvert_exporter": "python",
   "pygments_lexer": "ipython3",
   "version": "3.13.2"
  }
 },
 "nbformat": 4,
 "nbformat_minor": 4
}
